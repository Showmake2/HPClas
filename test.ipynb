{
 "cells": [
  {
   "cell_type": "code",
   "execution_count": 2,
   "id": "ffeee46e-fd5f-4d0e-9d99-103f6318b3bd",
   "metadata": {},
   "outputs": [
    {
     "name": "stdout",
     "output_type": "stream",
     "text": [
      "           A         C  ...  uncharger.negativecharger  uncharger.uncharger\n",
      "0   0.000000  0.000000  ...                   0.010989             0.043956\n",
      "1   0.063927  0.004566  ...                   0.027523             0.096330\n",
      "2   0.080000  0.011429  ...                   0.045977             0.017241\n",
      "3   0.091398  0.016129  ...                   0.059459             0.091892\n",
      "4   0.074597  0.002016  ...                   0.058586             0.052525\n",
      "..       ...       ...  ...                        ...                  ...\n",
      "95  0.026316  0.000000  ...                   0.021164             0.063492\n",
      "96  0.080882  0.014706  ...                   0.051852             0.140741\n",
      "97  0.109489  0.021898  ...                   0.029412             0.110294\n",
      "98  0.057143  0.014286  ...                   0.057554             0.050360\n",
      "99  0.046605  0.006658  ...                   0.042667             0.088000\n",
      "\n",
      "[100 rows x 2666 columns]\n",
      "    pred_prob\n",
      "0    0.990873\n",
      "1    0.960658\n",
      "2    0.999682\n",
      "3    0.997706\n",
      "4    0.987636\n",
      "..        ...\n",
      "95   0.629152\n",
      "96   0.405780\n",
      "97   0.694246\n",
      "98   0.495545\n",
      "99   0.114237\n",
      "\n",
      "[100 rows x 1 columns]\n",
      "    pred_prob  pred\n",
      "0    0.990873     1\n",
      "1    0.960658     1\n",
      "2    0.999682     1\n",
      "3    0.997706     1\n",
      "4    0.987636     1\n",
      "..        ...   ...\n",
      "95   0.629152     1\n",
      "96   0.405780     0\n",
      "97   0.694246     1\n",
      "98   0.495545     0\n",
      "99   0.114237     0\n",
      "\n",
      "[100 rows x 2 columns]\n"
     ]
    }
   ],
   "source": [
    "! python HPClas.py --type predict --fasta_file dataset/test_P.fasta --output_name output/test --threshold 0.5"
   ]
  },
  {
   "cell_type": "code",
   "execution_count": null,
   "id": "1c21c542-f347-4e07-af6e-8909a7487605",
   "metadata": {},
   "outputs": [],
   "source": []
  }
 ],
 "metadata": {
  "kernelspec": {
   "display_name": "HST",
   "language": "python",
   "name": "hst"
  },
  "language_info": {
   "codemirror_mode": {
    "name": "ipython",
    "version": 3
   },
   "file_extension": ".py",
   "mimetype": "text/x-python",
   "name": "python",
   "nbconvert_exporter": "python",
   "pygments_lexer": "ipython3",
   "version": "3.10.9"
  }
 },
 "nbformat": 4,
 "nbformat_minor": 5
}
