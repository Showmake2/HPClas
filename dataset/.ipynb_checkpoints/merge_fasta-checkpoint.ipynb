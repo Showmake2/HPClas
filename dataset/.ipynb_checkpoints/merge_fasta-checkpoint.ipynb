{
 "cells": [
  {
   "cell_type": "code",
   "execution_count": 2,
   "id": "9f2dd2d9-cb93-4f34-b658-cf97a8208f75",
   "metadata": {},
   "outputs": [],
   "source": [
    "import os\n",
    "\n",
    "input_folder = 'Experimental_validation_set'\n",
    "output_file = 'Experimental_validation_set.fasta'\n",
    "\n",
    "with open(output_file, 'w') as outfile:\n",
    "    for root, dirs, files in os.walk(input_folder):\n",
    "        for file in files:\n",
    "            if file.endswith(\".fasta\"):\n",
    "                file_path = os.path.join(root, file)\n",
    "                with open(file_path, 'r') as infile:\n",
    "                    outfile.write(infile.read())\n",
    "                    outfile.write('\\n')  \n"
   ]
  },
  {
   "cell_type": "code",
   "execution_count": null,
   "id": "18af2d3c-0b8f-45b9-8235-83e57056d390",
   "metadata": {},
   "outputs": [],
   "source": []
  }
 ],
 "metadata": {
  "kernelspec": {
   "display_name": "HST",
   "language": "python",
   "name": "hst"
  },
  "language_info": {
   "codemirror_mode": {
    "name": "ipython",
    "version": 3
   },
   "file_extension": ".py",
   "mimetype": "text/x-python",
   "name": "python",
   "nbconvert_exporter": "python",
   "pygments_lexer": "ipython3",
   "version": "3.10.9"
  }
 },
 "nbformat": 4,
 "nbformat_minor": 5
}
